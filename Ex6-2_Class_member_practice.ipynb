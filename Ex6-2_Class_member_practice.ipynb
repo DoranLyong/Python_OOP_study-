{
 "cells": [
  {
   "cell_type": "markdown",
   "metadata": {},
   "source": [
    "# 클래스 맴버 "
   ]
  },
  {
   "cell_type": "markdown",
   "metadata": {},
   "source": [
    "* instance member = {instance method, instance variable } \n",
    "\n",
    "* class memeber = { class method, class variable } "
   ]
  },
  {
   "cell_type": "code",
   "execution_count": 5,
   "metadata": {},
   "outputs": [],
   "source": [
    "class Calc(object):\n",
    "    _history = [] # list type class variable \n",
    "                  # _history: It is forbidden to access it from outer of class \n",
    "    \n",
    "    def __init__(self, v1, v2): # constructor \n",
    "        self.v1 = v1\n",
    "        self.v2 = v2            # instance varaible ('self') \n",
    "    \n",
    "    def add(self):\n",
    "        result = self.v1 + self.v2 \n",
    "        Calc._history.append(\"add: %d + %d = %d\" %(self.v1, self.v2, result)) # .append() is a method of list class\n",
    "                                                                              # Calc._history: class variable \n",
    "        return result\n",
    "    \n",
    "    def subtract(self):\n",
    "        result = self.v1 - self.v2 \n",
    "        Calc._history.append(\"add: %d - %d = %d\" %(self.v1, self.v2, result)) # .append() is a method of list class\n",
    "                                                                              # Calc._history: class variable \n",
    "        return result\n",
    "    \n",
    "    @classmethod \n",
    "    def history(cls):                                                         # a method of class member \n",
    "        for item in cls._history: \n",
    "            print(item)\n",
    "            "
   ]
  },
  {
   "cell_type": "markdown",
   "metadata": {},
   "source": [
    "* _history :  외부접근이 차단된 클래스 변수 <br/>\n",
    "\n",
    "\n",
    "* cls :\n",
    "> 클래스 맴버들을 캡슐화  <br/>\n",
    "\n",
    "* self : \n",
    "> 인스턴스 맴버들을 캡슐화 "
   ]
  },
  {
   "cell_type": "code",
   "execution_count": 6,
   "metadata": {},
   "outputs": [],
   "source": [
    "class Calc_advance(Calc):                                                    # inherits from the class 'Calc'\n",
    "    \n",
    "    def multiply(self):\n",
    "        result = self.v1 * self.v2 \n",
    "        Calc._history.append(\"add: %d * %d = %d\" %(self.v1, self.v2, result)) # .append() is a method of list class\n",
    "                                                                              # Calc._history: class variable \n",
    "        return result\n",
    "        \n",
    "    def devide(self):\n",
    "        result = self.v1 / self.v2 \n",
    "        Calc._history.append(\"add: %d / %d = %d\" %(self.v1, self.v2, result)) # .append() is a method of list class\n",
    "                                                                              # Calc._history: class variable \n",
    "        return result"
   ]
  },
  {
   "cell_type": "code",
   "execution_count": 7,
   "metadata": {},
   "outputs": [],
   "source": [
    "if __name__ == \"__main__\" : \n",
    "    x, y = (10, 20) \n",
    "\n",
    "    instn = Calc_advance(x, y) # instnace of the class 'Calc_advance' "
   ]
  },
  {
   "cell_type": "markdown",
   "metadata": {},
   "source": [
    "### 인스턴스 메소드 "
   ]
  },
  {
   "cell_type": "code",
   "execution_count": 8,
   "metadata": {},
   "outputs": [
    {
     "name": "stdout",
     "output_type": "stream",
     "text": [
      "add(10, 20):  30\n",
      "subtract(10, 20):  -10\n",
      "multiply(10, 20):  200\n",
      "devide(10, 20):  0.5\n"
     ]
    }
   ],
   "source": [
    "    # methods of the instance member \n",
    "    print(\"add({}, {}): \".format(x,y), instn.add() )\n",
    "    print(\"subtract({}, {}): \".format(x,y), instn.subtract() )\n",
    "    print(\"multiply({}, {}): \".format(x,y), instn.multiply() )\n",
    "    print(\"devide({}, {}): \".format(x,y), instn.devide() )"
   ]
  },
  {
   "cell_type": "markdown",
   "metadata": {},
   "source": [
    "### 클래스 메소드 "
   ]
  },
  {
   "cell_type": "code",
   "execution_count": 9,
   "metadata": {},
   "outputs": [
    {
     "name": "stdout",
     "output_type": "stream",
     "text": [
      "add: 10 + 20 = 30\n",
      "add: 10 - 20 = -10\n",
      "add: 10 * 20 = 200\n",
      "add: 10 / 20 = 0\n"
     ]
    }
   ],
   "source": [
    "# method of the class member \n",
    "Calc_advance.history()"
   ]
  },
  {
   "cell_type": "markdown",
   "metadata": {},
   "source": [
    "Calc._history.append() 를 통해 모든 인스턴스들이 클래스 변수를 공유하면서 업데이트"
   ]
  },
  {
   "cell_type": "code",
   "execution_count": 10,
   "metadata": {},
   "outputs": [
    {
     "name": "stdout",
     "output_type": "stream",
     "text": [
      "['add: 10 + 20 = 30', 'add: 10 - 20 = -10', 'add: 10 * 20 = 200', 'add: 10 / 20 = 0']\n"
     ]
    }
   ],
   "source": [
    "print(Calc._history)"
   ]
  },
  {
   "cell_type": "code",
   "execution_count": 11,
   "metadata": {},
   "outputs": [
    {
     "name": "stdout",
     "output_type": "stream",
     "text": [
      "['add: 10 + 20 = 30', 'add: 10 - 20 = -10', 'add: 10 * 20 = 200', 'add: 10 / 20 = 0']\n"
     ]
    }
   ],
   "source": [
    "print(Calc_advance._history)"
   ]
  },
  {
   "cell_type": "markdown",
   "metadata": {},
   "source": [
    "클래스 변수도 상속돼서 공유됨 "
   ]
  },
  {
   "cell_type": "markdown",
   "metadata": {},
   "source": [
    "### 그런데? "
   ]
  },
  {
   "cell_type": "code",
   "execution_count": 12,
   "metadata": {},
   "outputs": [],
   "source": [
    "Calc_advance._history = \"Clear\""
   ]
  },
  {
   "cell_type": "code",
   "execution_count": 13,
   "metadata": {},
   "outputs": [
    {
     "name": "stdout",
     "output_type": "stream",
     "text": [
      "['add: 10 + 20 = 30', 'add: 10 - 20 = -10', 'add: 10 * 20 = 200', 'add: 10 / 20 = 0']\n"
     ]
    }
   ],
   "source": [
    "print(Calc._history)"
   ]
  },
  {
   "cell_type": "code",
   "execution_count": 14,
   "metadata": {},
   "outputs": [
    {
     "name": "stdout",
     "output_type": "stream",
     "text": [
      "Clear\n"
     ]
    }
   ],
   "source": [
    "print(Calc_advance._history)"
   ]
  },
  {
   "cell_type": "markdown",
   "metadata": {},
   "source": [
    "이건 수정된다??? 뭐지?"
   ]
  },
  {
   "cell_type": "markdown",
   "metadata": {},
   "source": [
    "[https://blog.naver.com/cheeryun/221399947215]"
   ]
  },
  {
   "cell_type": "code",
   "execution_count": null,
   "metadata": {},
   "outputs": [],
   "source": []
  }
 ],
 "metadata": {
  "kernelspec": {
   "display_name": "Python 3",
   "language": "python",
   "name": "python3"
  },
  "language_info": {
   "codemirror_mode": {
    "name": "ipython",
    "version": 3
   },
   "file_extension": ".py",
   "mimetype": "text/x-python",
   "name": "python",
   "nbconvert_exporter": "python",
   "pygments_lexer": "ipython3",
   "version": "3.6.5"
  }
 },
 "nbformat": 4,
 "nbformat_minor": 2
}
