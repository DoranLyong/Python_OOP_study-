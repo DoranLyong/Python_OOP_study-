{
 "cells": [
  {
   "cell_type": "markdown",
   "metadata": {},
   "source": [
    "# 클래스를 사용하는 기본 구조 "
   ]
  },
  {
   "cell_type": "markdown",
   "metadata": {},
   "source": [
    "인스턴스: 정의된 클래스(class)를 실재화 시킨 객체 "
   ]
  },
  {
   "cell_type": "code",
   "execution_count": 1,
   "metadata": {},
   "outputs": [],
   "source": [
    "class  Cal(object): \n",
    "    def __init__(self, v1, v2): # Constructor: \"to initialize the instance\"\n",
    "        self.v1 = v1            # 'self' is the instance variable \n",
    "        self.v2 = v2            # 'self' packs values and is used in global variable \n",
    "\n",
    "    def add(self):              # Method 1\n",
    "        return self.v1 + self.v2  # To take all instance variable => call \"self\"\n",
    "    \n",
    "    def sub(self):              # Method 2\n",
    "        return self.v1 - self.v2 \n"
   ]
  },
  {
   "cell_type": "markdown",
   "metadata": {},
   "source": [
    "<span style=\"color:red\">self</span> 는 (클래스 정의 내부에서) 인스턴스(instance) 자신을 가리킴  <br/>\n",
    "\n",
    "메소드를 정의할 때 인스턴스 변수를 가져오기 위해 \"<span style=\"color:red\">self</span> \"를 호출, "
   ]
  },
  {
   "cell_type": "code",
   "execution_count": 2,
   "metadata": {},
   "outputs": [
    {
     "name": "stdout",
     "output_type": "stream",
     "text": [
      "20\n",
      "0\n",
      "50\n"
     ]
    }
   ],
   "source": [
    "if __name__ == \"__main__\":\n",
    "    c1 = Cal(10, 10)            # Cal클래스를 가지고 \n",
    "                                # 상태(10, 10)인 = 초기값이 (10, 10)인\n",
    "                                # 인스턴스를 생성 \n",
    "\n",
    "    print( c1.add() )           # c1 인스턴스 밑에(.) add()메소드 실행 \n",
    "    print( c1.sub() )           # 영어는 품사 혼영 언어니까 \n",
    "                                # add() !! ⇒ add()를 실행해! \n",
    "        \n",
    "    c2 = Cal(30, 20)            # Construct a instance with a state (10, 10) of class 'Cal'\n",
    "    print( c2.add() )           # To execute 'add()' method of the instance 'c2'\n"
   ]
  },
  {
   "cell_type": "markdown",
   "metadata": {},
   "source": [
    "다시 한번... \n",
    "객체 c1은 클래스 Cal()을 통해 초기값 (10, 10)으로 인스턴스화됨. <br/>\n",
    "이때의 <span style=\"color:red\">self</span>은 객체 c1을 가리킴 "
   ]
  },
  {
   "cell_type": "markdown",
   "metadata": {},
   "source": [
    "[https://blog.naver.com/cheeryun/221399426648]"
   ]
  },
  {
   "cell_type": "code",
   "execution_count": null,
   "metadata": {},
   "outputs": [],
   "source": []
  }
 ],
 "metadata": {
  "kernelspec": {
   "display_name": "Python 3",
   "language": "python",
   "name": "python3"
  },
  "language_info": {
   "codemirror_mode": {
    "name": "ipython",
    "version": 3
   },
   "file_extension": ".py",
   "mimetype": "text/x-python",
   "name": "python",
   "nbconvert_exporter": "python",
   "pygments_lexer": "ipython3",
   "version": "3.6.5"
  }
 },
 "nbformat": 4,
 "nbformat_minor": 2
}
