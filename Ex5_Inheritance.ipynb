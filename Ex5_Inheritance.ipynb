{
 "cells": [
  {
   "cell_type": "markdown",
   "metadata": {},
   "source": [
    "# 상속 - Inheritance "
   ]
  },
  {
   "cell_type": "markdown",
   "metadata": {},
   "source": [
    "\\[**의미**\\] <br/>\n",
    "\n",
    "* 기존 클래스의 기능$^{method}$ + 새로운 기능 추가 => 새로운 클래스 <br/>\n",
    "\n",
    "기능을 상속받아서 <span style=\"color:red\">새로운 객체를 만든다. </span>\n"
   ]
  },
  {
   "cell_type": "markdown",
   "metadata": {},
   "source": [
    "### 상속이 없을 때"
   ]
  },
  {
   "cell_type": "code",
   "execution_count": 1,
   "metadata": {},
   "outputs": [],
   "source": [
    "class Class1(object):\n",
    "    def method1(self):\n",
    "        return \"m1\"\n",
    "    \n",
    "class Class2(object):\n",
    "    def method1(self):\n",
    "        return \"m1\"\n",
    "    \n",
    "    def method2(self):\n",
    "        return \"m2\""
   ]
  },
  {
   "cell_type": "code",
   "execution_count": 2,
   "metadata": {},
   "outputs": [
    {
     "name": "stdout",
     "output_type": "stream",
     "text": [
      "m1\n",
      "m1\n"
     ]
    }
   ],
   "source": [
    "if __name__ == \"__main__\":\n",
    "    c1 = Class1() \n",
    "    c2 = Class2()\n",
    "\n",
    "    print( c1.method1() )\n",
    "    print( c2.method1() )  # 결과는 같지만 기능이 중복 문제 "
   ]
  },
  {
   "cell_type": "markdown",
   "metadata": {},
   "source": [
    "Class1과 Class2의 기능 'method1' 이 중복된다 <br/>\n",
    "\n",
    "**중복은 제거돼야 한다**"
   ]
  },
  {
   "cell_type": "markdown",
   "metadata": {},
   "source": [
    " "
   ]
  },
  {
   "cell_type": "markdown",
   "metadata": {},
   "source": [
    "### 상속이 있을 때 "
   ]
  },
  {
   "cell_type": "code",
   "execution_count": 3,
   "metadata": {},
   "outputs": [],
   "source": [
    "class Class1(object):\n",
    "    def method1(self):\n",
    "        return \"m1\" \n",
    "\n",
    "class Class2(Class1):      # Class1을 상속받는다 \n",
    "\n",
    "    def method2(self):     # 새로운 기능을 추가한다 \n",
    "        return \"m2\""
   ]
  },
  {
   "cell_type": "code",
   "execution_count": 4,
   "metadata": {},
   "outputs": [
    {
     "name": "stdout",
     "output_type": "stream",
     "text": [
      "m1\n",
      "m1\n"
     ]
    }
   ],
   "source": [
    "if __name__ == \"__main__\":\n",
    "    c1 = Class1() \n",
    "    c2 = Class2()\n",
    "\n",
    "    print( c1.method1() )\n",
    "    print( c2.method1() )  # 같은 결과 "
   ]
  },
  {
   "cell_type": "markdown",
   "metadata": {},
   "source": [
    "Class2가 Class1를 상속함으로써 'method1'을 그냥 쓸 수 있게 됨  <br/>\n",
    "=> 중복이 제거됨 "
   ]
  },
  {
   "cell_type": "markdown",
   "metadata": {},
   "source": [
    "[https://blog.naver.com/cheeryun/221399909106]"
   ]
  },
  {
   "cell_type": "code",
   "execution_count": null,
   "metadata": {},
   "outputs": [],
   "source": []
  }
 ],
 "metadata": {
  "kernelspec": {
   "display_name": "Python 3",
   "language": "python",
   "name": "python3"
  },
  "language_info": {
   "codemirror_mode": {
    "name": "ipython",
    "version": 3
   },
   "file_extension": ".py",
   "mimetype": "text/x-python",
   "name": "python",
   "nbconvert_exporter": "python",
   "pygments_lexer": "ipython3",
   "version": "3.6.5"
  }
 },
 "nbformat": 4,
 "nbformat_minor": 2
}
