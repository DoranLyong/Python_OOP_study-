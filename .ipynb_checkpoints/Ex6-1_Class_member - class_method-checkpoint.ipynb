{
 "cells": [
  {
   "cell_type": "markdown",
   "metadata": {},
   "source": [
    "# 클래스 맴버 소개 "
   ]
  },
  {
   "cell_type": "markdown",
   "metadata": {},
   "source": [
    "* 클래스 맴버 = { class method, class variable }\n",
    "\n",
    "* 특징: <br/>\n",
    ">같은 클래스로 생성된 인스턴스들은 클래스 맴버를 똑같이 공유함 "
   ]
  },
  {
   "cell_type": "code",
   "execution_count": 1,
   "metadata": {},
   "outputs": [
    {
     "name": "stdout",
     "output_type": "stream",
     "text": [
      "인스턴스 변수: 2016\n",
      "인스턴스 변수: 2017\n",
      "클레스 메소드: 2018-11-16\n"
     ]
    }
   ],
   "source": [
    "from datetime import date \n",
    "\n",
    "day1 = date(2016, 12, 5)   # (2016, 12, 5)를 상태로 가지는 \n",
    "                           # data() 클래스로 인스턴스화 \n",
    "day2 = date(2017, 9, 25) \n",
    "\n",
    "print(\"인스턴스 변수:\", day1.year)         # 출력: 2016 => instance variable \n",
    "print(\"인스턴스 변수:\", day2.year)         # 출력: 2017 = >instance variable \n",
    "\n",
    "print(\"클레스 메소드:\", date.today() )     # 출력: 오늘 날짜 => 클래스 메소드 "
   ]
  },
  {
   "cell_type": "markdown",
   "metadata": {},
   "source": [
    "### 인스턴스 맴버   vs  클래스 맴버 "
   ]
  },
  {
   "cell_type": "markdown",
   "metadata": {},
   "source": [
    "메소드와 변수를 같은 클래스의 인스턴스들끼리 공유하는지 여부. <br/>\n",
    ">* 인스턴스 맴버 => 공유 X \n",
    ">* 클래스 맴버   => 공유 O"
   ]
  },
  {
   "cell_type": "markdown",
   "metadata": {},
   "source": [
    " "
   ]
  },
  {
   "cell_type": "markdown",
   "metadata": {},
   "source": [
    "## 클래스 메소드 - 클래스에 소속된 메소드 "
   ]
  },
  {
   "cell_type": "markdown",
   "metadata": {},
   "source": [
    "전체 같은 클래스로 생성된 인스턴스들이 공유하는 메소드 "
   ]
  },
  {
   "cell_type": "markdown",
   "metadata": {},
   "source": [
    "* <span style=\"color:red\">cls</span> :\n",
    "> 클래스 변수를 캡슐화  <br/>\n",
    "\n",
    "* <span style=\"color:blue\">self</span> : \n",
    "> 인스턴스 변수를 캡슐화 <br/>"
   ]
  },
  {
   "cell_type": "code",
   "execution_count": 2,
   "metadata": {},
   "outputs": [],
   "source": [
    "class  Cs:\n",
    "\n",
    "    @staticmethod                 # \"static method\"임을 명시 \n",
    "    def static_method():\n",
    "        print(\"Static method\")\n",
    "\n",
    "    @classmethod                  # \"class method\"임을 명시 \n",
    "    def class_method(cls):        # cls는 class variable을 받음 \n",
    "        print(\"Class method\")\n",
    "\n",
    "    def instance_method(self):    # self는 instance variable를 받음 \n",
    "        print(\"Instance method\") \n"
   ]
  },
  {
   "cell_type": "code",
   "execution_count": 3,
   "metadata": {},
   "outputs": [
    {
     "name": "stdout",
     "output_type": "stream",
     "text": [
      "Static method\n",
      "Class method\n",
      "Instance method\n"
     ]
    }
   ],
   "source": [
    "if __name__ == \"__main__\": \n",
    "    instn = Cs()                 # Cs() 클래스로 인스턴스화    \n",
    "\n",
    "    Cs.static_method()           # 클래스 맴버인 메소드 \n",
    "    Cs.class_method()            # 클래스 맴버인 메소드 \n",
    "\n",
    "    instn.instance_method()      # 인스턴스 'instn'의 맴버인 메소드   \n"
   ]
  },
  {
   "cell_type": "markdown",
   "metadata": {},
   "source": [
    " "
   ]
  },
  {
   "cell_type": "markdown",
   "metadata": {},
   "source": [
    "## 클래스 변수 - 클래스에 소속된 변수 "
   ]
  },
  {
   "cell_type": "markdown",
   "metadata": {},
   "source": [
    "전체 같은 클래스로 생성된 인스턴스들이 공유하는 메소드 "
   ]
  },
  {
   "cell_type": "code",
   "execution_count": 4,
   "metadata": {},
   "outputs": [],
   "source": [
    "class  Cs:\n",
    "    count = 0                    # 클래스 변수 \n",
    "                                 # this variable is shared in all the same class \n",
    "                                 # even if generated instance is different.\n",
    "    \n",
    "    # (코드블럭 1)\n",
    "    def __init__(self):          # 생성자 \n",
    "        Cs.count = Cs.count + 1  # 클래스 Cs의 클래스 변수 count에 접근 \n",
    "    \n",
    "    # (코드블럭 2)\n",
    "    @classmethod \n",
    "    def getCount( cls ):         # 클래스 메소드 \n",
    "        return cls.count         # Cs.count 와 같음 \n"
   ]
  },
  {
   "cell_type": "code",
   "execution_count": 5,
   "metadata": {},
   "outputs": [
    {
     "name": "stdout",
     "output_type": "stream",
     "text": [
      "1\n"
     ]
    }
   ],
   "source": [
    "if __name__ == \"__main__\": \n",
    "    instn1 = Cs()                # (코드블럭 1) 실행  \n",
    "    print( Cs.getCount() )       # 클래스 변수에 접근해서 \n",
    "                                 # Cs.count = Cs.count + 1  "
   ]
  },
  {
   "cell_type": "code",
   "execution_count": 6,
   "metadata": {},
   "outputs": [
    {
     "name": "stdout",
     "output_type": "stream",
     "text": [
      "2\n"
     ]
    }
   ],
   "source": [
    "    instn2 = Cs() \n",
    "    print( Cs.getCount() )      "
   ]
  },
  {
   "cell_type": "code",
   "execution_count": 8,
   "metadata": {},
   "outputs": [
    {
     "name": "stdout",
     "output_type": "stream",
     "text": [
      "6\n"
     ]
    }
   ],
   "source": [
    "    instn3 = Cs() \n",
    "    instn4 = Cs() \n",
    "\n",
    "    print( Cs.getCount() )       # 출력 : 4 "
   ]
  },
  {
   "cell_type": "markdown",
   "metadata": {},
   "source": [
    "출력: 4 <br>\n",
    "\n",
    "It means that when instances are generated in the same class, \n",
    "\n",
    "all the instances share the same class variable.  "
   ]
  },
  {
   "cell_type": "markdown",
   "metadata": {},
   "source": [
    "[https://blog.naver.com/cheeryun/221399947215]"
   ]
  },
  {
   "cell_type": "code",
   "execution_count": null,
   "metadata": {},
   "outputs": [],
   "source": []
  }
 ],
 "metadata": {
  "kernelspec": {
   "display_name": "Python 3",
   "language": "python",
   "name": "python3"
  },
  "language_info": {
   "codemirror_mode": {
    "name": "ipython",
    "version": 3
   },
   "file_extension": ".py",
   "mimetype": "text/x-python",
   "name": "python",
   "nbconvert_exporter": "python",
   "pygments_lexer": "ipython3",
   "version": "3.6.5"
  }
 },
 "nbformat": 4,
 "nbformat_minor": 2
}
