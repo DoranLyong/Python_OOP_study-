{
 "cells": [
  {
   "cell_type": "markdown",
   "metadata": {},
   "source": [
    "# 인스턴스 변수에 접근하는 방법 2가지 "
   ]
  },
  {
   "cell_type": "markdown",
   "metadata": {},
   "source": [
    "(1) 직접 적급하기 <br/>\n",
    "(2) set-get 메소드 "
   ]
  },
  {
   "cell_type": "code",
   "execution_count": 1,
   "metadata": {},
   "outputs": [],
   "source": [
    "class samClass(object):\n",
    "    def __init__(self, val):\n",
    "        self.value = val\n",
    "    \n",
    "    def show(self): # <= take the instance variable \n",
    "        print(self.value)\n",
    "        \n",
    "    def getValue(self):\n",
    "        return self.value # Returns the instance variable \n",
    "        \n",
    "    def setValue(self, new_val):\n",
    "        self.value = new_val"
   ]
  },
  {
   "cell_type": "markdown",
   "metadata": {},
   "source": [
    "## 직접 접근하기"
   ]
  },
  {
   "cell_type": "markdown",
   "metadata": {},
   "source": [
    "Python can access the instance variables directly. <br/>\n",
    "기본적으로 Python은 인스턴스 변수에 바로 접근할 수 있음 "
   ]
  },
  {
   "cell_type": "code",
   "execution_count": 2,
   "metadata": {},
   "outputs": [
    {
     "name": "stdout",
     "output_type": "stream",
     "text": [
      "1st instane variable: \n",
      "10\n",
      "Access the instance variable directly:  10\n",
      "the directly changed instance variable :  20\n",
      "\n",
      "\n"
     ]
    }
   ],
   "source": [
    "if __name__ == \"__main__\":\n",
    "    instn = samClass(10) # make an instance in the class \n",
    "\n",
    "    print(\"1st instane variable: \") \n",
    "    instn.show() # Run the method 'show()' of the instance. \n",
    "\n",
    "    print(\"Access the instance variable directly: \", instn.value)\n",
    "\n",
    "    instn.value = 20 # directly change the instance value. \n",
    "    print(\"the directly changed instance variable : \", instn.value)\n",
    "    print(\"\\n\") "
   ]
  },
  {
   "cell_type": "markdown",
   "metadata": {},
   "source": [
    "## set/get 메소드 "
   ]
  },
  {
   "cell_type": "markdown",
   "metadata": {},
   "source": [
    "To access the instance variables by methods of instance."
   ]
  },
  {
   "cell_type": "code",
   "execution_count": 3,
   "metadata": {},
   "outputs": [
    {
     "name": "stdout",
     "output_type": "stream",
     "text": [
      "Get the instance value by its method 20\n",
      "Change the instance value by its method 30\n"
     ]
    }
   ],
   "source": [
    "    print(\"Get the instance value by its method\", instn.getValue()) \n",
    "\n",
    "    instn.setValue(30) # Change the instance value by its method() \n",
    "    print(\"Change the instance value by its method\", instn.getValue())"
   ]
  },
  {
   "cell_type": "markdown",
   "metadata": {},
   "source": [
    "[https://blog.naver.com/cheeryun/221399476607]"
   ]
  },
  {
   "cell_type": "code",
   "execution_count": null,
   "metadata": {},
   "outputs": [],
   "source": []
  }
 ],
 "metadata": {
  "kernelspec": {
   "display_name": "Python 3",
   "language": "python",
   "name": "python3"
  },
  "language_info": {
   "codemirror_mode": {
    "name": "ipython",
    "version": 3
   },
   "file_extension": ".py",
   "mimetype": "text/x-python",
   "name": "python",
   "nbconvert_exporter": "python",
   "pygments_lexer": "ipython3",
   "version": "3.6.5"
  }
 },
 "nbformat": 4,
 "nbformat_minor": 2
}
