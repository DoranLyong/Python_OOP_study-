{
 "cells": [
  {
   "cell_type": "markdown",
   "metadata": {},
   "source": [
    "# set/get 메소드 심화 "
   ]
  },
  {
   "cell_type": "code",
   "execution_count": 1,
   "metadata": {},
   "outputs": [],
   "source": [
    "# Calculator class \n",
    "class Calc(object):\n",
    "    # Constructor \n",
    "    def __init__(self, v1, v2): # Take states  \n",
    "        self.v1 = v1            # ,and set the instance variables\n",
    "        self.v2 = v2 \n",
    "    \n",
    "    ## Methods\n",
    "    def add(self):  # add() method \n",
    "        return (self.v1) + (self.v2)\n",
    "    \n",
    "    def substract(self): # subtract() method \n",
    "        return (self.v1) - (self.v2)\n",
    "        \n",
    "    def setV1(self, new_val): \n",
    "        \n",
    "        if isinstance(new_val, int): # Whether 'new_val' is the instance of 'int' class ?\n",
    "            self.v1 = new_val\n",
    "            \n",
    "    def setV2(self, new_val):\n",
    "        \n",
    "        if isinstance(new_val, int):\n",
    "            self.v2 = new_val"
   ]
  },
  {
   "cell_type": "markdown",
   "metadata": {},
   "source": [
    "isinstance(new_val, <span style=\"color:blue\"> int</span>):  <br/>\n",
    "\n",
    "'new_val'가 \"int\" 클래스의 인스턴스인지 판별 => 참이면 True 반환 "
   ]
  },
  {
   "cell_type": "code",
   "execution_count": 2,
   "metadata": {},
   "outputs": [
    {
     "name": "stdout",
     "output_type": "stream",
     "text": [
      "add(10, 10):  20\n",
      "subtract(10, 10):  0\n",
      "\n",
      "\n"
     ]
    }
   ],
   "source": [
    "if __name__ == \"__main__\":\n",
    "    x, y = (10, 10) # tuple for unpacking \n",
    "    instn = Calc(x, y) # Make a instance with (10,10) state in Calc class.\n",
    "\n",
    "    print(\"add({}, {}): \".format(x,y), instn.add()) \n",
    "    print(\"subtract({}, {}): \".format(x,y), instn.substract())\n",
    "    print(\"\\n\")"
   ]
  },
  {
   "cell_type": "markdown",
   "metadata": {},
   "source": [
    "instance variables를 외부에서 바꿀 수 있으면(access from outer)  <br/>\n",
    "참, 편하겠지 "
   ]
  },
  {
   "cell_type": "markdown",
   "metadata": {},
   "source": [
    "## Access the instance variables directly "
   ]
  },
  {
   "cell_type": "code",
   "execution_count": 3,
   "metadata": {},
   "outputs": [],
   "source": [
    "#instn.v1 = 'one'  # <= v1 has to take integer value ==> Error !!! \n",
    "#instn.v2 = 30   "
   ]
  },
  {
   "cell_type": "markdown",
   "metadata": {},
   "source": [
    " "
   ]
  },
  {
   "cell_type": "markdown",
   "metadata": {},
   "source": [
    "## Access the instance through its method "
   ]
  },
  {
   "cell_type": "code",
   "execution_count": 4,
   "metadata": {},
   "outputs": [
    {
     "name": "stdout",
     "output_type": "stream",
     "text": [
      "add(10, 30):  40\n",
      "subtract(10, 30):  -20\n"
     ]
    }
   ],
   "source": [
    "instn.setV1('one') # Even though it take string, it is okay because method checks the value. \n",
    "instn.setV2(30) \n",
    "\n",
    "print(\"add({}, {}): \".format(instn.v1, instn.v2), instn.add()) \n",
    "print(\"subtract({}, {}): \".format(instn.v1, instn.v2 ), instn.substract())"
   ]
  },
  {
   "cell_type": "markdown",
   "metadata": {},
   "source": [
    "[https://blog.naver.com/cheeryun/221399476607]"
   ]
  },
  {
   "cell_type": "code",
   "execution_count": null,
   "metadata": {},
   "outputs": [],
   "source": []
  }
 ],
 "metadata": {
  "kernelspec": {
   "display_name": "Python 3",
   "language": "python",
   "name": "python3"
  },
  "language_info": {
   "codemirror_mode": {
    "name": "ipython",
    "version": 3
   },
   "file_extension": ".py",
   "mimetype": "text/x-python",
   "name": "python",
   "nbconvert_exporter": "python",
   "pygments_lexer": "ipython3",
   "version": "3.6.5"
  }
 },
 "nbformat": 4,
 "nbformat_minor": 2
}
