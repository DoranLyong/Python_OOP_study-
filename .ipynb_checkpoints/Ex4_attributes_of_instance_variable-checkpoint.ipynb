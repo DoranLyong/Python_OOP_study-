{
 "cells": [
  {
   "cell_type": "markdown",
   "metadata": {},
   "source": [
    "# 인스턴스 변수의 외부접근 차단 "
   ]
  },
  {
   "cell_type": "markdown",
   "metadata": {},
   "source": [
    "접근이 가능하다 => C. R. U. D  <br/>\n",
    "\n",
    "외부 접근이 가능하다 => 외부에서 수정이 가능하다 <br/>"
   ]
  },
  {
   "cell_type": "markdown",
   "metadata": {},
   "source": [
    "python은 instance variable에 직접 접근이(읽기, 쓰기) 가능해서 \n",
    "외부에서 속성(attribute) 수정이 가능 하다.\n",
    "\n",
    "어떤 instance variable은 내부 적으로만 사용해야 하고 \n",
    "외부에서 변경했을 때 큰 문제가 생길 경우가 있다.\n",
    "\n",
    "\n",
    "그래서 인스턴스 변수의 값이 바뀌지 않도록 <span style=\"color:red\">외부 접근을 막을 필요가 있음</span>"
   ]
  },
  {
   "cell_type": "markdown",
   "metadata": {},
   "source": [
    "## 접근을 막는 방법 "
   ]
  },
  {
   "cell_type": "code",
   "execution_count": 1,
   "metadata": {},
   "outputs": [],
   "source": [
    "class Calc(object): \n",
    "    def __init__(self, v1, v2): \n",
    "        self.v1 = v1\n",
    "        self.__v2 = v2 # Not allowed to acces from outer \n",
    "        \n",
    "    def show(self):\n",
    "        print(self.v1)\n",
    "        print(self.__v2) # Not allowed to access from outer  "
   ]
  },
  {
   "cell_type": "code",
   "execution_count": 2,
   "metadata": {},
   "outputs": [
    {
     "name": "stdout",
     "output_type": "stream",
     "text": [
      "Access the instance directly:  10\n",
      "10\n",
      "20\n"
     ]
    },
    {
     "ename": "AttributeError",
     "evalue": "'Calc' object has no attribute '__v2'",
     "output_type": "error",
     "traceback": [
      "\u001b[1;31m---------------------------------------------------------------------------\u001b[0m",
      "\u001b[1;31mAttributeError\u001b[0m                            Traceback (most recent call last)",
      "\u001b[1;32m<ipython-input-2-ee1426b653d4>\u001b[0m in \u001b[0;36m<module>\u001b[1;34m()\u001b[0m\n\u001b[0;32m      8\u001b[0m \u001b[1;33m\u001b[0m\u001b[0m\n\u001b[0;32m      9\u001b[0m \u001b[1;33m\u001b[0m\u001b[0m\n\u001b[1;32m---> 10\u001b[1;33m     \u001b[0mprint\u001b[0m\u001b[1;33m(\u001b[0m\u001b[1;34m\"Not allowed to access from outer: \"\u001b[0m\u001b[1;33m,\u001b[0m \u001b[0mc1\u001b[0m\u001b[1;33m.\u001b[0m\u001b[0m__v2\u001b[0m\u001b[1;33m)\u001b[0m \u001b[1;31m# Will get error\u001b[0m\u001b[1;33m\u001b[0m\u001b[0m\n\u001b[0m\u001b[0;32m     11\u001b[0m                                                          \u001b[1;31m# because the instance variable .__v2 is hiding\u001b[0m\u001b[1;33m\u001b[0m\u001b[1;33m\u001b[0m\u001b[0m\n",
      "\u001b[1;31mAttributeError\u001b[0m: 'Calc' object has no attribute '__v2'"
     ]
    }
   ],
   "source": [
    "if __name__ == \"__main__\":\n",
    "    x ,y = (10 ,20 )\n",
    "    c1 = Calc(x, y) # make an instance in the class Calc. \n",
    "\n",
    "    print(\"Access the instance directly: \", c1.v1) # directly access \n",
    "\n",
    "    c1.show()  # access through method \n",
    "\n",
    "\n",
    "    print(\"Not allowed to access from outer: \", c1.__v2) # Will get error \n",
    "                                                         # because the instance variable .__v2 is hiding \n",
    "\n"
   ]
  },
  {
   "cell_type": "markdown",
   "metadata": {},
   "source": [
    "[https://blog.naver.com/cheeryun/221399476607]"
   ]
  }
 ],
 "metadata": {
  "kernelspec": {
   "display_name": "Python 3",
   "language": "python",
   "name": "python3"
  },
  "language_info": {
   "codemirror_mode": {
    "name": "ipython",
    "version": 3
   },
   "file_extension": ".py",
   "mimetype": "text/x-python",
   "name": "python",
   "nbconvert_exporter": "python",
   "pygments_lexer": "ipython3",
   "version": "3.6.5"
  }
 },
 "nbformat": 4,
 "nbformat_minor": 2
}
