{
 "cells": [
  {
   "cell_type": "markdown",
   "metadata": {},
   "source": [
    "# 상속 기능 연습하기 "
   ]
  },
  {
   "cell_type": "markdown",
   "metadata": {},
   "source": [
    "Making a calculator \n",
    "which computing two values. "
   ]
  },
  {
   "cell_type": "markdown",
   "metadata": {},
   "source": [
    " "
   ]
  },
  {
   "cell_type": "markdown",
   "metadata": {},
   "source": [
    "### 부모 클래스 정의 "
   ]
  },
  {
   "cell_type": "code",
   "execution_count": 1,
   "metadata": {},
   "outputs": [],
   "source": [
    "### Parents class \n",
    "class Calc(object):\n",
    "    def __init__(self, v1, v2): # constructor \n",
    "        self.v1 = v1\n",
    "        self.v2 = v2 \n",
    "        \n",
    "    def add(self):\n",
    "        return self.v1 + self.v2\n",
    "        \n",
    "    def subtract(self):\n",
    "        return self.v1 - self.v2 "
   ]
  },
  {
   "cell_type": "markdown",
   "metadata": {},
   "source": [
    " "
   ]
  },
  {
   "cell_type": "markdown",
   "metadata": {},
   "source": [
    "### 자식 클래스 정의 "
   ]
  },
  {
   "cell_type": "code",
   "execution_count": 2,
   "metadata": {},
   "outputs": [],
   "source": [
    "class Calc_advance(Calc): # to inherit methods from the class 'Calc' \n",
    "    \n",
    "    # Constructor is inherited from the class 'Calc' \n",
    "    \n",
    "    def multiply(self):\n",
    "        return self.v1 * self.v2 \n",
    "    \n",
    "    def devide(self):\n",
    "        return self.v1 / self.v2 "
   ]
  },
  {
   "cell_type": "markdown",
   "metadata": {},
   "source": [
    "부모로 부터 상속받은 자식클래스는 <br/>\n",
    "따로 생성자$^{constructor}$를 선언할 필요 없음 "
   ]
  },
  {
   "cell_type": "code",
   "execution_count": 3,
   "metadata": {},
   "outputs": [
    {
     "name": "stdout",
     "output_type": "stream",
     "text": [
      "add(10, 20):  30\n",
      "subtract(10, 20):  -10\n",
      "multiply(10, 20):  200\n",
      "devide(10, 20):  0.5\n"
     ]
    }
   ],
   "source": [
    "if __name__ == \"__main__\":\n",
    "    x, y = (10, 20)\n",
    "\n",
    "    instn = Calc_advance(x, y) # instance of the class 'Calc_advance' with state (x, y)\n",
    "\n",
    "    print(\"add({}, {}): \".format(x, y), instn.add() ) \n",
    "    print(\"subtract({}, {}): \".format(x, y), instn.subtract() )\n",
    "    print(\"multiply({}, {}): \".format(x, y), instn.multiply() )\n",
    "    print(\"devide({}, {}): \".format(x, y), instn.devide() )"
   ]
  },
  {
   "cell_type": "markdown",
   "metadata": {},
   "source": [
    "[https://blog.naver.com/cheeryun/221399909106]"
   ]
  },
  {
   "cell_type": "code",
   "execution_count": null,
   "metadata": {},
   "outputs": [],
   "source": []
  }
 ],
 "metadata": {
  "kernelspec": {
   "display_name": "Python 3",
   "language": "python",
   "name": "python3"
  },
  "language_info": {
   "codemirror_mode": {
    "name": "ipython",
    "version": 3
   },
   "file_extension": ".py",
   "mimetype": "text/x-python",
   "name": "python",
   "nbconvert_exporter": "python",
   "pygments_lexer": "ipython3",
   "version": "3.6.5"
  }
 },
 "nbformat": 4,
 "nbformat_minor": 2
}
